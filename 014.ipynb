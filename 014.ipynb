{
 "cells": [
  {
   "cell_type": "code",
   "execution_count": 6,
   "metadata": {
    "collapsed": true
   },
   "outputs": [],
   "source": [
    "memo = {}\n",
    "memo[1] = 1\n",
    "\n",
    "def seq_len(num):\n",
    "    if num in memo:\n",
    "        return memo[num]\n",
    "    \n",
    "    i = num\n",
    "    seq = 0\n",
    "    while i > 1 and i not in memo:\n",
    "        i = 3*i + 1 if i % 2 == 1 else i / 2\n",
    "        seq = seq + 1\n",
    "        \n",
    "    seq = seq + memo[i]\n",
    "            \n",
    "    memo[num] = seq\n",
    "    return seq"
   ]
  },
  {
   "cell_type": "code",
   "execution_count": 13,
   "metadata": {},
   "outputs": [
    {
     "name": "stdout",
     "output_type": "stream",
     "text": [
      "837799 525\n"
     ]
    }
   ],
   "source": [
    "mx = 0\n",
    "mx_num = 1\n",
    "\n",
    "for i in range(2, 1000000):\n",
    "    s = seq_len(i)\n",
    "    if s > mx:\n",
    "        mx = s\n",
    "        mx_num = i\n",
    "\n",
    "print(mx_num, mx)"
   ]
  },
  {
   "cell_type": "code",
   "execution_count": null,
   "metadata": {
    "collapsed": true
   },
   "outputs": [],
   "source": []
  }
 ],
 "metadata": {
  "kernelspec": {
   "display_name": "Python 3",
   "language": "python",
   "name": "python3"
  },
  "language_info": {
   "codemirror_mode": {
    "name": "ipython",
    "version": 3
   },
   "file_extension": ".py",
   "mimetype": "text/x-python",
   "name": "python",
   "nbconvert_exporter": "python",
   "pygments_lexer": "ipython3",
   "version": "3.6.1"
  }
 },
 "nbformat": 4,
 "nbformat_minor": 2
}
