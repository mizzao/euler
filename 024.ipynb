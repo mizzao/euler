{
 "cells": [
  {
   "cell_type": "code",
   "execution_count": 62,
   "metadata": {},
   "outputs": [
    {
     "name": "stdout",
     "output_type": "stream",
     "text": [
      "2783915460\n"
     ]
    }
   ],
   "source": [
    "import math\n",
    "total = 999999\n",
    "s = list(range(10))\n",
    "ans = \"\"\n",
    "\n",
    "for i in range(10):\n",
    "    diff = math.factorial(9 - i)\n",
    "    \n",
    "    idx = 0\n",
    "    while total - diff >= 0:\n",
    "        total = total - diff\n",
    "        idx += 1\n",
    "    \n",
    "    ans += str( s.pop(idx) )\n",
    "    \n",
    "print(ans)"
   ]
  },
  {
   "cell_type": "code",
   "execution_count": null,
   "metadata": {
    "collapsed": true
   },
   "outputs": [],
   "source": []
  }
 ],
 "metadata": {
  "kernelspec": {
   "display_name": "Python 3",
   "language": "python",
   "name": "python3"
  },
  "language_info": {
   "codemirror_mode": {
    "name": "ipython",
    "version": 3
   },
   "file_extension": ".py",
   "mimetype": "text/x-python",
   "name": "python",
   "nbconvert_exporter": "python",
   "pygments_lexer": "ipython3",
   "version": "3.6.1"
  }
 },
 "nbformat": 4,
 "nbformat_minor": 2
}
