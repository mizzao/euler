{
 "cells": [
  {
   "cell_type": "code",
   "execution_count": 110,
   "metadata": {},
   "outputs": [],
   "source": [
    "# Gets the repeating digits from 1/divisor\n",
    "def recip_long_division(divisor, max_digits=5000):\n",
    "    dividend = 10\n",
    "    s = \"\"\n",
    "    while len(s) < max_digits:\n",
    "        if dividend < divisor:\n",
    "            dividend *= 10\n",
    "            s += '0'\n",
    "        else:\n",
    "            q = dividend // divisor\n",
    "            dividend = (dividend % divisor) * 10\n",
    "            s += str(q)\n",
    "            if dividend == 0:\n",
    "                break\n",
    "    return s"
   ]
  },
  {
   "cell_type": "code",
   "execution_count": 111,
   "metadata": {
    "collapsed": true
   },
   "outputs": [],
   "source": [
    "import re"
   ]
  },
  {
   "cell_type": "code",
   "execution_count": 114,
   "metadata": {},
   "outputs": [
    {
     "name": "stdout",
     "output_type": "stream",
     "text": [
      "983 982\n"
     ]
    }
   ],
   "source": [
    "# This is super janky. We should be able to search for a long repeated substring more robustly.\n",
    "mx = 1\n",
    "n = None\n",
    "for i in range(2, 1000):    \n",
    "    m = re.match(r'\\d*(\\d+)\\1\\1\\1\\d*', recip_long_division(i))\n",
    "    if m is None or m[1] is None:\n",
    "        continue\n",
    "    \n",
    "    if len(m[1]) > mx:\n",
    "        n = i\n",
    "        mx = len(m[1])\n",
    "        \n",
    "print(n, mx)"
   ]
  },
  {
   "cell_type": "code",
   "execution_count": null,
   "metadata": {
    "collapsed": true
   },
   "outputs": [],
   "source": []
  }
 ],
 "metadata": {
  "kernelspec": {
   "display_name": "Python 3",
   "language": "python",
   "name": "python3"
  },
  "language_info": {
   "codemirror_mode": {
    "name": "ipython",
    "version": 3
   },
   "file_extension": ".py",
   "mimetype": "text/x-python",
   "name": "python",
   "nbconvert_exporter": "python",
   "pygments_lexer": "ipython3",
   "version": "3.6.1"
  }
 },
 "nbformat": 4,
 "nbformat_minor": 2
}
