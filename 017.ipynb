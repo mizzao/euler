{
 "cells": [
  {
   "cell_type": "code",
   "execution_count": 24,
   "metadata": {
    "collapsed": true
   },
   "outputs": [],
   "source": [
    "words = {\n",
    "    1: 'one',\n",
    "    2: 'two',\n",
    "    3: 'three',\n",
    "    4: 'four',\n",
    "    5: 'five',\n",
    "    6: 'six',\n",
    "    7: 'seven',\n",
    "    8: 'eight',\n",
    "    9: 'nine',\n",
    "    10: 'ten',\n",
    "    11: 'eleven',\n",
    "    12: 'twelve',\n",
    "    13: 'thirteen',\n",
    "    14: 'fourteen',\n",
    "    15: 'fifteen',\n",
    "    16: 'sixteen',\n",
    "    17: 'seventeen',\n",
    "    18: 'eighteen',\n",
    "    19: 'nineteen',\n",
    "    20: 'twenty',\n",
    "    30: 'thirty',\n",
    "    40: 'forty',\n",
    "    50: 'fifty',\n",
    "    60: 'sixty',\n",
    "    70: 'seventy',\n",
    "    80: 'eighty',\n",
    "    90: 'ninety',\n",
    "    1000: 'one thousand'\n",
    "}"
   ]
  },
  {
   "cell_type": "code",
   "execution_count": 25,
   "metadata": {
    "collapsed": true
   },
   "outputs": [],
   "source": [
    "def itostr(i):\n",
    "    try:\n",
    "        return words[i]\n",
    "    except:\n",
    "        pass\n",
    "    \n",
    "    if i > 1000:\n",
    "        raise ValueError \n",
    "    \n",
    "    if i >= 100:\n",
    "        rem = i % 100\n",
    "        if rem == 0:\n",
    "            return itostr(i // 100) + ' hundred'\n",
    "        else:\n",
    "            return itostr(i // 100) + ' hundred and ' + itostr(rem)\n",
    "    \n",
    "    return itostr(i // 10 * 10) + ' ' + itostr(i % 10)"
   ]
  },
  {
   "cell_type": "code",
   "execution_count": 27,
   "metadata": {},
   "outputs": [
    {
     "data": {
      "text/plain": [
       "21124"
      ]
     },
     "execution_count": 27,
     "metadata": {},
     "output_type": "execute_result"
    }
   ],
   "source": [
    "sum([ len(word) - word.count(' ') for word in map(itostr, range(1, 1001))])"
   ]
  },
  {
   "cell_type": "code",
   "execution_count": 20,
   "metadata": {
    "collapsed": true
   },
   "outputs": [],
   "source": [
    "def n_letters(w):\n",
    "    return len(w) - w.count(' ')"
   ]
  },
  {
   "cell_type": "code",
   "execution_count": 23,
   "metadata": {},
   "outputs": [
    {
     "data": {
      "text/plain": [
       "20"
      ]
     },
     "execution_count": 23,
     "metadata": {},
     "output_type": "execute_result"
    }
   ],
   "source": [
    "n_letters(itostr(115))"
   ]
  }
 ],
 "metadata": {
  "kernelspec": {
   "display_name": "Python 3",
   "language": "python",
   "name": "python3"
  },
  "language_info": {
   "codemirror_mode": {
    "name": "ipython",
    "version": 3
   },
   "file_extension": ".py",
   "mimetype": "text/x-python",
   "name": "python",
   "nbconvert_exporter": "python",
   "pygments_lexer": "ipython3",
   "version": "3.6.1"
  }
 },
 "nbformat": 4,
 "nbformat_minor": 2
}
